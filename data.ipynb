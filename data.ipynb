{
 "cells": [
  {
   "cell_type": "code",
   "execution_count": null,
   "metadata": {},
   "outputs": [],
   "source": [
    "import re\n",
    "\n",
    "def clean(line):\n",
    "    line.strip()\n",
    "\n",
    "    line = re.sub(r'^[-–,.\\s]*(\\((BG|CS|DA|DE|EL|EN|ES|ET|FI|FR|GA|HU|IT|LT|LV|MT|NL|PL|PT|RO|SK|SL|SV)\\))?\\s*', '', line)\n",
    "    line = re.sub(r'<.*', '', line)\n",
    "\n",
    "    return line\n",
    "\n",
    "clean('   , . – (EN)This is a test.<0')"
   ]
  },
  {
   "cell_type": "code",
   "execution_count": null,
   "metadata": {},
   "outputs": [],
   "source": [
    "lines_en = set()\n",
    "lines_fr = set()\n",
    "lines_de = set()\n",
    "\n",
    "with open('europarl/europarl-v7.de-en.en', 'r', encoding='utf-8') as f:\n",
    "    lines_en.update(clean(line) for line in f.readlines())\n",
    "\n",
    "with open('europarl/europarl-v7.fr-en.en', 'r', encoding='utf-8') as f:\n",
    "    lines_en.update(clean(line) for line in f.readlines())\n",
    "\n",
    "with open('europarl/europarl-v7.de-en.de', 'r', encoding='utf-8') as f:\n",
    "    lines_de.update(clean(line) for line in f.readlines())\n",
    "\n",
    "with open('europarl/europarl-v7.fr-en.fr', 'r', encoding='utf-8') as f:\n",
    "    lines_fr.update(clean(line) for line in f.readlines())\n",
    "\n",
    "lines_en, lines_fr, lines_de = list(lines_en), list(lines_fr), list(lines_de)\n",
    "\n",
    "with open('dataset/en_all.mono', 'w', encoding='utf-8') as f:\n",
    "    f.writelines(lines_en)\n",
    "\n",
    "with open('dataset/fr_all.mono', 'w', encoding='utf-8') as f:\n",
    "    f.writelines(lines_fr)\n",
    "\n",
    "with open('dataset/de_all.mono', 'w', encoding='utf-8') as f:\n",
    "    f.writelines(lines_de)\n",
    "\n",
    "len(lines_en), len(lines_fr), len(lines_de)"
   ]
  },
  {
   "cell_type": "code",
   "execution_count": 1,
   "metadata": {},
   "outputs": [],
   "source": [
    "import sentencepiece as spm"
   ]
  },
  {
   "cell_type": "code",
   "execution_count": null,
   "metadata": {},
   "outputs": [],
   "source": [
    "spm.SentencePieceTrainer.train(\n",
    "    input='dataset/en_all.mono',\n",
    "    model_prefix='spm_en',\n",
    "    vocab_size=32000,\n",
    "    character_coverage=1.0,\n",
    "    user_defined_symbols=['<pad>']\n",
    ")\n",
    "\n",
    "spm.SentencePieceTrainer.train(\n",
    "    input='dataset/de_all.mono',\n",
    "    model_prefix='spm_de',\n",
    "    vocab_size=32000,\n",
    "    character_coverage=1.0,\n",
    "    user_defined_symbols=['<pad>']\n",
    ")\n",
    "\n",
    "spm.SentencePieceTrainer.train(\n",
    "    input='dataset/fr_all.mono',\n",
    "    model_prefix='spm_fr',\n",
    "    vocab_size=32000,\n",
    "    character_coverage=1.0,\n",
    "    user_defined_symbols=['<pad>']\n",
    ")"
   ]
  },
  {
   "cell_type": "code",
   "execution_count": 2,
   "metadata": {},
   "outputs": [],
   "source": [
    "sp = spm.SentencePieceProcessor(model_file='spm_en.model')"
   ]
  },
  {
   "cell_type": "code",
   "execution_count": null,
   "metadata": {},
   "outputs": [],
   "source": [
    "text = \"As of now, we haven't called it anything in class but have just been following a basic set of rules with stroke direction and order.\"\n",
    "text == sp.decode(sp.encode(text))"
   ]
  },
  {
   "cell_type": "code",
   "execution_count": null,
   "metadata": {},
   "outputs": [],
   "source": [
    "print(type(sp.encode(text)))"
   ]
  },
  {
   "cell_type": "code",
   "execution_count": 3,
   "metadata": {},
   "outputs": [],
   "source": [
    "import torch"
   ]
  },
  {
   "cell_type": "code",
   "execution_count": null,
   "metadata": {},
   "outputs": [],
   "source": [
    "with open('dataset/en_all.mono', 'r', encoding='utf-8') as f:\n",
    "    lines_en = f.readlines()\n",
    "\n",
    "len(lines_en)"
   ]
  },
  {
   "cell_type": "code",
   "execution_count": null,
   "metadata": {},
   "outputs": [],
   "source": [
    "list(\n",
    "    torch.tensor(sp.encode(line.strip()), dtype=torch.short)\n",
    "    for line in lines_en[0:10]\n",
    ")\n"
   ]
  },
  {
   "cell_type": "code",
   "execution_count": 10,
   "metadata": {},
   "outputs": [
    {
     "data": {
      "text/plain": [
       "'This is a test. <pad><pad>'"
      ]
     },
     "execution_count": 10,
     "metadata": {},
     "output_type": "execute_result"
    }
   ],
   "source": [
    "a = torch.tensor(sp.encode('This is a test. <pad><pad>'))\n",
    "sp.decode(a.tolist())"
   ]
  },
  {
   "cell_type": "code",
   "execution_count": 9,
   "metadata": {},
   "outputs": [
    {
     "data": {
      "text/plain": [
       "[70, 13, 12, 2238, 6, 173, 3, 3]"
      ]
     },
     "execution_count": 9,
     "metadata": {},
     "output_type": "execute_result"
    }
   ],
   "source": [
    "a.tolist()"
   ]
  }
 ],
 "metadata": {
  "kernelspec": {
   "display_name": "Python 3",
   "language": "python",
   "name": "python3"
  },
  "language_info": {
   "codemirror_mode": {
    "name": "ipython",
    "version": 3
   },
   "file_extension": ".py",
   "mimetype": "text/x-python",
   "name": "python",
   "nbconvert_exporter": "python",
   "pygments_lexer": "ipython3",
   "version": "3.12.1"
  }
 },
 "nbformat": 4,
 "nbformat_minor": 2
}
